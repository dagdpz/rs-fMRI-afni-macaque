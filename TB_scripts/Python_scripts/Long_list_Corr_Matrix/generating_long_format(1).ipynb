{
 "cells": [
  {
   "cell_type": "code",
   "execution_count": 11,
   "id": "1c7e8194-6f35-4dc4-8149-da251e67424d",
   "metadata": {},
   "outputs": [
    {
     "name": "stdout",
     "output_type": "stream",
     "text": [
      "This number of ROIs was extracted from the file: 108\n",
      "The correlation matrix in long format has been saved to correlation_files/csv_tables/correlation_matrix_long_format_predrug_003.csv.\n",
      "This number of ROIs was extracted from the file: 108\n",
      "The correlation matrix in long format has been saved to correlation_files/csv_tables/correlation_matrix_long_format_postdrug_003.csv.\n"
     ]
    }
   ],
   "source": [
    "import csv\n",
    "import pandas as pd\n",
    "import re\n",
    "\n",
    "# Define paths to input and output files\n",
    "input_file_predrug = \"correlation_files/predrug_sub-Linus_epi_CHARM_in_NMT_v2.1_sym_05mm_003.txt\"\n",
    "output_file_predrug = \"correlation_files/csv_tables/correlation_matrix_long_format_predrug_003.csv\"\n",
    "input_file_postdrug = \"correlation_files/postdrug_sub-Linus_epi_CHARM_in_NMT_v2.1_sym_05mm_003.txt\"\n",
    "output_file_postdrug = \"correlation_files/csv_tables/correlation_matrix_long_format_postdrug_003.csv\"\n",
    "\n",
    "# Function to extract number of ROIs\n",
    "def extract_number_from_first_line(input_file):\n",
    "    with open(input_file, 'r') as file:\n",
    "        first_line = file.readline()\n",
    "        match = re.search(r'\\d+', first_line)\n",
    "        if match:\n",
    "            return int(match.group())  # Extract number as an integer\n",
    "        else:\n",
    "            raise ValueError(\"No number was found in the first line.\")\n",
    "\n",
    "# Function to process a file and save the correlation matrix in long format\n",
    "def process_correlation_file(input_file, output_file, header_line, start_line):\n",
    "    number = extract_number_from_first_line(input_file)\n",
    "    print(f\"This number of ROIs was extracted from the file: {number}\")\n",
    "    end_line = start_line + number - 1  # Calculate last line of the matrix\n",
    "\n",
    "    with open(input_file, 'r') as file:\n",
    "        lines = file.readlines()\n",
    "\n",
    "        # Extract header and matrix lines\n",
    "        header = lines[header_line - 1].strip().split()\n",
    "        matrix_lines = lines[start_line - 1:end_line]\n",
    "        matrix_data = [line.strip().split() for line in matrix_lines]\n",
    "\n",
    "        # Convert the matrix to long format\n",
    "        long_format_data = []\n",
    "        for i, row in enumerate(matrix_data):\n",
    "            for j, value in enumerate(row):\n",
    "                long_format_data.append({\n",
    "                    'Variable1': header[i],\n",
    "                    'Variable2': header[j],\n",
    "                    'Correlation': float(value)\n",
    "                })\n",
    "\n",
    "        # Convert the data into a Pandas DataFrame and save as CSV\n",
    "        long_format_df = pd.DataFrame(long_format_data)\n",
    "        long_format_df.to_csv(output_file, index=False)\n",
    "        print(f\"The correlation matrix in long format has been saved to {output_file}.\")\n",
    "\n",
    "# Process predrug file\n",
    "process_correlation_file(input_file_predrug, output_file_predrug, header_line=4, start_line=7)\n",
    "\n",
    "# Process postdrug file\n",
    "process_correlation_file(input_file_postdrug, output_file_postdrug, header_line=4, start_line=7)\n"
   ]
  },
  {
   "cell_type": "code",
   "execution_count": null,
   "id": "72d46a2d-912a-4615-9680-73609252fa4e",
   "metadata": {},
   "outputs": [],
   "source": []
  }
 ],
 "metadata": {
  "kernelspec": {
   "display_name": "Python 3 (ipykernel)",
   "language": "python",
   "name": "python3"
  },
  "language_info": {
   "codemirror_mode": {
    "name": "ipython",
    "version": 3
   },
   "file_extension": ".py",
   "mimetype": "text/x-python",
   "name": "python",
   "nbconvert_exporter": "python",
   "pygments_lexer": "ipython3",
   "version": "3.11.9"
  }
 },
 "nbformat": 4,
 "nbformat_minor": 5
}
