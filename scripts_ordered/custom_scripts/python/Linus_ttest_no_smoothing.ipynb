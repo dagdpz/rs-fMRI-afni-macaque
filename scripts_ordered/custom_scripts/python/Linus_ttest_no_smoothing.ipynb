{
 "cells": [
  {
   "cell_type": "code",
   "execution_count": 1,
   "id": "6caa54c9-eb21-44d2-a797-5aeda621f283",
   "metadata": {},
   "outputs": [],
   "source": [
    "import numpy as np\n",
    "import pandas as pd\n",
    "import matplotlib.pyplot as plt\n",
    "from scipy import stats"
   ]
  },
  {
   "cell_type": "code",
   "execution_count": 2,
   "id": "106b8e39-d1f0-4f57-8ea8-e7aabd411399",
   "metadata": {},
   "outputs": [],
   "source": [
    "# generate numpy array from correlation matrix text file produced by run_30_pp_roi.tcsh\n",
    "matrix_post = np.genfromtxt('sub-Linus_postdrug_no_smoothing.netcc', skip_header=6)\n",
    "matrix_pre = np.genfromtxt('sub-Linus_predrug_no_smoothing.netcc', skip_header=6)"
   ]
  },
  {
   "cell_type": "code",
   "execution_count": 3,
   "id": "a7000554-26cf-4604-b620-58793f7e33e3",
   "metadata": {},
   "outputs": [],
   "source": [
    "for i in range(len(matrix_post)):\n",
    "    matrix_post[i,i] = np.nan\n",
    "    matrix_pre[i,i] = np.nan"
   ]
  },
  {
   "cell_type": "code",
   "execution_count": 4,
   "id": "282bfb96-03e9-44c0-91c4-03266ed68537",
   "metadata": {},
   "outputs": [],
   "source": [
    "#slice matrix into parts that make sense for our analysis\n",
    "# CL_CL: correlation within left hemisphere\n",
    "# CR_CR: correlation within right hemisphere\n",
    "# CL_CR: correlation across left and right hemisphere\n",
    "# CL_CL: correlation across right and left hemisphere\n",
    "\n",
    "slicer = int(len(matrix_post)/2)\n",
    "\n",
    "CL_CL_matrix_pre = matrix_pre[:slicer,:slicer]\n",
    "#print(CL_CL_matrix)\n",
    "CR_CR_matrix_pre = matrix_pre[slicer:,slicer:]\n",
    "#print(CR_CR_matrix)\n",
    "CL_CR_matrix_pre = matrix_pre[:slicer,slicer:]\n",
    "#CL_CR_matrix\n",
    "CR_CL_matrix_pre = matrix_pre[slicer:,:slicer]\n",
    "#CR_CL_matrix\n",
    "\n",
    "CL_CL_matrix_post = matrix_post[:slicer,:slicer]\n",
    "\n",
    "CR_CR_matrix_post = matrix_post[slicer:,slicer:]\n",
    "\n",
    "CL_CR_matrix_post = matrix_post[:slicer,slicer:]\n",
    "\n",
    "CR_CL_matrix_post = matrix_post[slicer:,:slicer]"
   ]
  },
  {
   "cell_type": "code",
   "execution_count": 5,
   "id": "2875d475-c3f3-4947-a535-d4e7350460f6",
   "metadata": {},
   "outputs": [],
   "source": [
    "#flatten the matrices because otherwise you get separate t-tests for every column with the ttest_rel function\n",
    "CL_CL_matrix_pre_1d = CL_CL_matrix_pre.flatten()\n",
    "CR_CR_matrix_pre_1d = CR_CR_matrix_pre.flatten()\n",
    "CL_CR_matrix_pre_1d = CL_CR_matrix_pre.flatten()\n",
    "CL_CL_matrix_post_1d = CL_CL_matrix_post.flatten()\n",
    "CR_CR_matrix_post_1d = CR_CR_matrix_post.flatten()\n",
    "CL_CR_matrix_post_1d = CL_CR_matrix_post.flatten()"
   ]
  },
  {
   "cell_type": "code",
   "execution_count": 21,
   "id": "7342762c-6791-4d2c-bf81-6c2c30577922",
   "metadata": {},
   "outputs": [
    {
     "name": "stdout",
     "output_type": "stream",
     "text": [
      "TtestResult(statistic=6.765099183685727, pvalue=8.191226041239042e-11, df=271)\n",
      "TtestResult(statistic=6.810219331478862, pvalue=6.270671029165256e-11, df=271)\n"
     ]
    },
    {
     "data": {
      "text/plain": [
       "TtestResult(statistic=8.023136891262887, pvalue=2.6248546806662247e-14, df=288)"
      ]
     },
     "execution_count": 21,
     "metadata": {},
     "output_type": "execute_result"
    }
   ],
   "source": [
    "#test for significance in CL-CL, CR-CR and CL-CR correlations\n",
    "print(stats.ttest_rel(CL_CL_matrix_pre_1d, CL_CL_matrix_post_1d, nan_policy = 'omit'))\n",
    "print(stats.ttest_rel(CR_CR_matrix_pre_1d, CR_CR_matrix_post_1d, nan_policy = 'omit'))\n",
    "print(stats.ttest_rel(CL_CR_matrix_pre_1d, CL_CR_matrix_post_1d, nan_policy = 'omit'))"
   ]
  },
  {
   "cell_type": "code",
   "execution_count": 18,
   "id": "ffe1eadb-d760-4a1d-a177-3d23775cc966",
   "metadata": {},
   "outputs": [],
   "source": [
    "#isolate only homotopic pairs\n",
    "homotopic_array_pre = np.zeros(slicer)\n",
    "homotopic_array_post = np.zeros(slicer)\n",
    "\n",
    "for i in range(slicer):\n",
    "    homotopic_array_pre[i] = matrix_pre[i, slicer+i]\n",
    "    homotopic_array_post[i] = matrix_post[i, slicer+i]"
   ]
  },
  {
   "cell_type": "code",
   "execution_count": 20,
   "id": "eb364f5d-a63d-4931-a9c6-8211431633ee",
   "metadata": {},
   "outputs": [
    {
     "data": {
      "text/plain": [
       "TtestResult(statistic=3.198496664873005, pvalue=0.005595355245049306, df=16)"
      ]
     },
     "execution_count": 20,
     "metadata": {},
     "output_type": "execute_result"
    }
   ],
   "source": [
    "#test for significance in correlation of homotopic pairs across hemispheres\n",
    "print(stats.ttest_rel(homotopic_array_pre, homotopic_array_post, nan_policy = 'omit'))"
   ]
  },
  {
   "cell_type": "code",
   "execution_count": 23,
   "id": "c0311694-add6-4979-b329-631ee192890e",
   "metadata": {},
   "outputs": [],
   "source": [
    "#isolate only non-homotopic pairs\n",
    "non_homotopic_array_pre = np.ma.array(CL_CR_matrix_pre, mask=False)\n",
    "non_homotopic_array_post = np.ma.array(CL_CR_matrix_post, mask=False) \n",
    "\n",
    "for i in range(slicer):\n",
    "    non_homotopic_array_pre.mask[i, i] = True\n",
    "    non_homotopic_array_post.mask[i, i] = True"
   ]
  },
  {
   "cell_type": "code",
   "execution_count": 26,
   "id": "28bcda87-0716-4d17-a5ab-ec16ea7d970d",
   "metadata": {},
   "outputs": [],
   "source": [
    "flat_pre = non_homotopic_array_pre.flatten()\n",
    "flat_post = non_homotopic_array_post.flatten()"
   ]
  },
  {
   "cell_type": "code",
   "execution_count": 27,
   "id": "f41cd876-29fe-4948-8569-86665c5c9f24",
   "metadata": {},
   "outputs": [
    {
     "data": {
      "text/plain": [
       "TtestResult(statistic=7.537199131348586, pvalue=7.227938943965982e-13, df=271)"
      ]
     },
     "execution_count": 27,
     "metadata": {},
     "output_type": "execute_result"
    }
   ],
   "source": [
    "#test for significance of non-homotopic pairs across hemispheres\n",
    "print(stats.ttest_rel(flat_pre, flat_post, nan_policy = 'omit'))"
   ]
  },
  {
   "cell_type": "code",
   "execution_count": null,
   "id": "ba685e82-6a66-427b-8b19-02cb075c1359",
   "metadata": {},
   "outputs": [],
   "source": []
  }
 ],
 "metadata": {
  "kernelspec": {
   "display_name": "Python 3 (ipykernel)",
   "language": "python",
   "name": "python3"
  },
  "language_info": {
   "codemirror_mode": {
    "name": "ipython",
    "version": 3
   },
   "file_extension": ".py",
   "mimetype": "text/x-python",
   "name": "python",
   "nbconvert_exporter": "python",
   "pygments_lexer": "ipython3",
   "version": "3.11.7"
  }
 },
 "nbformat": 4,
 "nbformat_minor": 5
}
